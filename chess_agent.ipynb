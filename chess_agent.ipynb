{
 "cells": [
  {
   "cell_type": "markdown",
   "metadata": {},
   "source": [
    "# FIDE-Google Efficient Chess AI Challenge\n",
    "\n",
    "This notebook implements a resource-efficient chess AI agent for the [FIDE & Google Kaggle competition](https://www.kaggle.com/competitions/fide-google-efficiency-chess-ai-challenge).\n",
    "\n",
    "## Competition Constraints\n",
    "- 5 MiB RAM limit\n",
    "- Single 2.20GHz CPU core\n",
    "- 64KiB compressed submission size limit\n",
    "- 10s with 0.1s Simple Delay time control"
   ]
  },
  {
   "cell_type": "markdown",
   "metadata": {},
   "source": [
    "## Install Dependencies\n",
    "First, let's install the required packages:"
   ]
  },
  {
   "cell_type": "code",
   "execution_count": null,
   "metadata": {},
   "source": [
    "!pip install python-chess==1.999 numpy==1.24.3"
   ]
  },
  {
   "cell_type": "markdown",
   "metadata": {},
   "source": [
    "## Import Required Libraries"
   ]
  },
  {
   "cell_type": "code",
   "execution_count": null,
   "metadata": {},
   "source": [
    "import chess\n",
    "import numpy as np\n",
    "import time\n",
    "from typing import Dict, List, Optional, Tuple"
   ]
  },
  {
   "cell_type": "markdown",
   "metadata": {},
   "source": [
    "## Chess Agent Implementation\n",
    "\n",
    "Our chess agent implements:\n",
    "1. Minimax search with alpha-beta pruning\n",
    "2. Basic evaluation function\n",
    "3. Iterative deepening for time management"
   ]
  },
  {
   "cell_type": "code",
   "execution_count": null,
   "metadata": {},
   "source": [
    "class ChessAgent:\n",
    "    def __init__(self):\n",
    "        # Piece values for basic material evaluation\n",
    "        self.piece_values = {\n",
    "            chess.PAWN: 100,\n",
    "            chess.KNIGHT: 320,\n",
    "            chess.BISHOP: 330,\n",
    "            chess.ROOK: 500,\n",
    "            chess.QUEEN: 900,\n",
    "            chess.KING: 20000\n",
    "        }\n",
    "        \n",
    "        # Simple piece-square tables for positional evaluation\n",
    "        self.pst = self._initialize_piece_square_tables()\n",
    "        \n",
    "    def _initialize_piece_square_tables(self) -> Dict:\n",
    "        \"\"\"Initialize basic piece-square tables for positional evaluation.\"\"\"\n",
    "        # Simple piece-square tables (to be optimized)\n",
    "        pst = {\n",
    "            chess.PAWN: np.array([\n",
    "                0,  0,  0,  0,  0,  0,  0,  0,\n",
    "                50, 50, 50, 50, 50, 50, 50, 50,\n",
    "                10, 10, 20, 30, 30, 20, 10, 10,\n",
    "                5,  5, 10, 25, 25, 10,  5,  5,\n",
    "                0,  0,  0, 20, 20,  0,  0,  0,\n",
    "                5, -5,-10,  0,  0,-10, -5,  5,\n",
    "                5, 10, 10,-20,-20, 10, 10,  5,\n",
    "                0,  0,  0,  0,  0,  0,  0,  0\n",
    "            ]),\n",
    "            chess.KNIGHT: np.array([\n",
    "                -50,-40,-30,-30,-30,-30,-40,-50,\n",
    "                -40,-20,  0,  0,  0,  0,-20,-40,\n",
    "                -30,  0, 10, 15, 15, 10,  0,-30,\n",
    "                -30,  5, 15, 20, 20, 15,  5,-30,\n",
    "                -30,  0, 15, 20, 20, 15,  0,-30,\n",
    "                -30,  5, 10, 15, 15, 10,  5,-30,\n",
    "                -40,-20,  0,  5,  5,  0,-20,-40,\n",
    "                -50,-40,-30,-30,-30,-30,-40,-50\n",
    "            ])\n",
    "        }\n",
    "        return pst\n",
    "\n",
    "    def evaluate_position(self, board: chess.Board) -> float:\n",
    "        \"\"\"\n",
    "        Evaluate the current position.\n",
    "        Returns a score from white's perspective.\n",
    "        \"\"\"\n",
    "        if board.is_checkmate():\n",
    "            return -20000 if board.turn else 20000\n",
    "        \n",
    "        score = 0\n",
    "        \n",
    "        # Material evaluation\n",
    "        for piece_type in self.piece_values:\n",
    "            score += len(board.pieces(piece_type, chess.WHITE)) * self.piece_values[piece_type]\n",
    "            score -= len(board.pieces(piece_type, chess.BLACK)) * self.piece_values[piece_type]\n",
    "        \n",
    "        # Basic mobility evaluation\n",
    "        score += len(list(board.legal_moves)) * (1 if board.turn else -1)\n",
    "        \n",
    "        return score\n",
    "\n",
    "    def get_best_move(self, board: chess.Board, depth: int = 3) -> Optional[chess.Move]:\n",
    "        \"\"\"Find the best move using minimax with alpha-beta pruning.\"\"\"\n",
    "        def minimax(board: chess.Board, depth: int, alpha: float, beta: float, maximizing: bool) -> Tuple[float, Optional[chess.Move]]:\n",
    "            if depth == 0 or board.is_game_over():\n",
    "                return self.evaluate_position(board), None\n",
    "            \n",
    "            best_move = None\n",
    "            if maximizing:\n",
    "                max_eval = float('-inf')\n",
    "                for move in board.legal_moves:\n",
    "                    board.push(move)\n",
    "                    eval_score, _ = minimax(board, depth - 1, alpha, beta, False)\n",
    "                    board.pop()\n",
    "                    \n",
    "                    if eval_score > max_eval:\n",
    "                        max_eval = eval_score\n",
    "                        best_move = move\n",
    "                    alpha = max(alpha, eval_score)\n",
    "                    if beta <= alpha:\n",
    "                        break\n",
    "                return max_eval, best_move\n",
    "            else:\n",
    "                min_eval = float('inf')\n",
    "                for move in board.legal_moves:\n",
    "                    board.push(move)\n",
    "                    eval_score, _ = minimax(board, depth - 1, alpha, beta, True)\n",
    "                    board.pop()\n",
    "                    \n",
    "                    if eval_score < min_eval:\n",
    "                        min_eval = eval_score\n",
    "                        best_move = move\n",
    "                    beta = min(beta, eval_score)\n",
    "                    if beta <= alpha:\n",
    "                        break\n",
    "                return min_eval, best_move\n",
    "\n",
    "        _, best_move = minimax(board, depth, float('-inf'), float('inf'), True)\n",
    "        return best_move"
   ]
  },
  {
   "cell_type": "markdown",
   "metadata": {},
   "source": [
    "## Competition Entry Point\n",
    "\n",
    "This is the main function that will be called by the competition framework:"
   ]
  },
  {
   "cell_type": "code",
   "execution_count": null,
   "metadata": {},
   "source": [
    "def agent(obs, config):\n",
    "    \"\"\"\n",
    "    Main agent function that will be called by the competition framework.\n",
    "    Args:\n",
    "        obs: Observation from the environment\n",
    "        config: Configuration for the game\n",
    "    Returns:\n",
    "        move: A chess move in UCI format (e.g., 'e2e4')\n",
    "    \"\"\"\n",
    "    # Initialize board from FEN if provided\n",
    "    board = chess.Board(obs.get('fen', chess.STARTING_FEN))\n",
    "    \n",
    "    # Create agent instance\n",
    "    chess_agent = ChessAgent()\n",
    "    \n",
    "    # Get the best move with iterative deepening\n",
    "    start_time = time.time()\n",
    "    time_limit = 0.1  # Conservative time limit to ensure we don't timeout\n",
    "    depth = 1\n",
    "    best_move = None\n",
    "    \n",
    "    while time.time() - start_time < time_limit and depth <= 4:\n",
    "        try:\n",
    "            move = chess_agent.get_best_move(board, depth)\n",
    "            if move:\n",
    "                best_move = move\n",
    "            depth += 1\n",
    "        except Exception:\n",
    "            break\n",
    "    \n",
    "    # Return the best move found\n",
    "    return best_move.uci() if best_move else list(board.legal_moves)[0].uci()"
   ]
  },
  {
   "cell_type": "markdown",
   "metadata": {},
   "source": [
    "## Test the Agent\n",
    "\n",
    "Let's test our agent with a simple game position:"
   ]
  },
  {
   "cell_type": "code",
   "execution_count": null,
   "metadata": {},
   "source": [
    "# Test from starting position\n",
    "test_obs = {'fen': chess.STARTING_FEN}\n",
    "test_config = {}\n",
    "\n",
    "# Get move from agent\n",
    "move = agent(test_obs, test_config)\n",
    "print(f\"Agent's move: {move}\")\n",
    "\n",
    "# Display the board\n",
    "board = chess.Board()\n",
    "print(\"\\nStarting position:\")\n",
    "print(board)"
   ]
  }
 ],
 "metadata": {
  "kernelspec": {
   "display_name": "Python 3",
   "language": "python",
   "name": "python3"
  },
  "language_info": {
   "codemirror_mode": {
    "name": "ipython",
    "version": 3
   },
   "file_extension": ".py",
   "mimetype": "text/x-python",
   "name": "python",
   "nbconvert_exporter": "python",
   "pygments_lexer": "ipython3",
   "version": "3.8.0"
  }
 },
 "nbformat": 4,
 "nbformat_minor": 4
}
